{
 "cells": [
  {
   "cell_type": "code",
   "execution_count": 31,
   "id": "455372e6-adf2-4887-a647-1033fa801011",
   "metadata": {},
   "outputs": [],
   "source": [
    "import matplotlib\n",
    "import matplotlib.pyplot as plt\n",
    "import numpy as np\n",
    "import math\n",
    "from astropy.table import Table\n",
    "import numpy as np\n",
    "import sys\n",
    "from matplotlib import cm\n",
    "from matplotlib.colors import ListedColormap\n",
    "from mpl_toolkits import mplot3d\n",
    "from operator import itemgetter\n",
    "\n",
    "Names = np.array([\"theta\",\"phi\",\"closest_PMT\",\"Start_Time\",\"Arrival_Time\",\"type\",\"NEvent\"])\n",
    "datas = Table.read(\"Output.txt\",format=\"ascii\",names=Names)\n",
    "\n",
    "thetas = np.array(datas[\"theta\"])\n",
    "phis = np.array(datas[\"phi\"])\n",
    "closest_PMTs = np.array(datas[\"closest_PMT\"])\n",
    "Start_Times = np.array(datas[\"Start_Time\"])\n",
    "Arrival_Times = np.array(datas[\"Arrival_Time\"])\n",
    "types = np.array(datas[\"type\"])\n",
    "NEvent = np.array(datas[\"NEvent\"])\n",
    "\n",
    "N = len(thetas)\n",
    "\n",
    "\n"
   ]
  },
  {
   "cell_type": "code",
   "execution_count": 67,
   "id": "53c7d01d-3080-4e74-9af6-d4c1cd742638",
   "metadata": {},
   "outputs": [
    {
     "name": "stdout",
     "output_type": "stream",
     "text": [
      "[ 18.  69. 138. 181. 256. 283. 318. 333. 307. 323. 354. 331. 325. 332.\n",
      " 300. 296. 293. 292. 284. 234. 268. 249. 248. 255. 232. 226. 238. 233.\n",
      " 191. 192.]\n"
     ]
    },
    {
     "data": {
      "image/png": "[encoded data removed]",
      "text/plain": [
       "<Figure size 640x480 with 1 Axes>"
      ]
     },
     "metadata": {},
     "output_type": "display_data"
    }
   ],
   "source": [
    "NEvents = 5000 # MUST UPDATE EACH TIME \n",
    "\n",
    "First_Hits = np.zeros(30)\n",
    "\n",
    "iout = 0\n",
    "\n",
    "for j in range(0,NEvents) :\n",
    "    \n",
    "    Sliced_Vector = []\n",
    "    Ordered_Vector = []\n",
    "\n",
    "    for i in range (iout,N) :\n",
    "        if NEvent[i] == j :\n",
    "            Sliced_Vector.append([Start_Times[i],types[i]])\n",
    "        if NEvent[i] > j :\n",
    "            iout = i\n",
    "            break\n",
    "        \n",
    "    Ordered_Vector = sorted(Sliced_Vector, key=itemgetter(0), reverse=False)\n",
    "    \n",
    "    #print(Ordered_Vector)\n",
    "\n",
    "    for k in range (0,min(30,len(Ordered_Vector))) :\n",
    "        First_Hits[k] += Ordered_Vector[k][1]\n",
    "\n",
    "print(First_Hits)\n",
    "\n",
    "\n",
    "NBin = np.arange(0,30,1)\n",
    "\n",
    "plt.hist(NBin,30,weights=First_Hits/NEvents)\n",
    "plt.xlabel(\"# hit\")\n",
    "plt.ylabel(\"Cherenkov probability\")\n",
    "plt.title(\"Cherenkov probability\")\n",
    "plt.savefig(\"Nhits_prob\")\n",
    "plt.show()\n",
    "\n",
    "\n"
   ]
  },
  {
   "cell_type": "code",
   "execution_count": null,
   "id": "a9f71bcd-7e10-40e3-9b3b-25962f365f3d",
   "metadata": {},
   "outputs": [],
   "source": []
  },
  {
   "cell_type": "code",
   "execution_count": null,
   "id": "eca5d9ea-0422-4e35-904f-a57c1698a333",
   "metadata": {},
   "outputs": [],
   "source": []
  }
 ],
 "metadata": {
  "kernelspec": {
   "display_name": "Python 3 (ipykernel)",
   "language": "python",
   "name": "python3"
  },
  "language_info": {
   "codemirror_mode": {
    "name": "ipython",
    "version": 3
   },
   "file_extension": ".py",
   "mimetype": "text/x-python",
   "name": "python",
   "nbconvert_exporter": "python",
   "pygments_lexer": "ipython3",
   "version": "3.9.13"
  }
 },
 "nbformat": 4,
 "nbformat_minor": 5
}
